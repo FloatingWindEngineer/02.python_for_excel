{
 "cells": [
  {
   "cell_type": "code",
   "execution_count": 1,
   "id": "d8508699-3cff-4ffd-a495-6986523d2906",
   "metadata": {
    "collapsed": true,
    "jupyter": {
     "outputs_hidden": true,
     "source_hidden": true
    },
    "tags": []
   },
   "outputs": [
    {
     "name": "stdout",
     "output_type": "stream",
     "text": [
      " C 드라이브의 볼륨에는 이름이 없습니다.\n",
      " 볼륨 일련 번호: E22C-656E\n",
      "\n",
      " c:\\mywork 디렉터리\n",
      "\n",
      "2023-08-05  오전 09:48    <DIR>          .\n",
      "2023-08-05  오전 09:48    <DIR>          ..\n",
      "2023-08-05  오전 09:48    <DIR>          .ipynb_checkpoints\n",
      "2023-08-05  오전 09:36               617 20230805_.ipynb\n",
      "2023-07-29  오후 05:21             2,041 230729_Markdown(1st).ipynb\n",
      "2023-08-05  오전 09:36            26,322 230729_print(2nd).ipynb\n",
      "               3개 파일              28,980 바이트\n",
      "               3개 디렉터리  446,370,697,216 바이트 남음\n"
     ]
    }
   ],
   "source": [
    "!dir"
   ]
  },
  {
   "cell_type": "markdown",
   "id": "0c805443-582f-48de-be24-067111278957",
   "metadata": {},
   "source": [
    "# 문자열처리"
   ]
  },
  {
   "cell_type": "code",
   "execution_count": 124,
   "id": "8ff9ea54-2c87-48fb-9a41-f7349838d3d0",
   "metadata": {
    "tags": []
   },
   "outputs": [
    {
     "name": "stdout",
     "output_type": "stream",
     "text": [
      "사과 당근 오이\n",
      "사과당근오이\n",
      "사과사과사과\n",
      "나는 5개의 사과를 먹었습니다.\n",
      "나는 3개의 사과를 먹었습니다.\n",
      "나는 5개의 사과를 먹었습니다.\n",
      "나는     5개의 사과를 먹었습니다.\n",
      "나는 00005개의 사과를 먹었습니다.\n",
      "나는  7.00개의 사과를 먹었습니다.\n",
      "나는 0000007.0000개의 사과를 먹었습니다.\n",
      "나는 5개의 당근를 먹었습니다.\n",
      "나는 5개의 당근를 먹었습니다.\n",
      "나는 5개의    당근를 먹었습니다.\n",
      "나는 5개의 당근   를 먹었습니다.\n",
      "나는 7개의 오이를 먹었습니다.\n",
      "나는 7개의 오이를 먹었습니다.\n",
      "나는 0005.00개의 사과 를 먹었습니다.\n",
      "나는         5개의        사과를 먹었습니다.\n",
      "나는 5        개의 사과       를 먹었습니다.\n",
      "나는     5    개의    사과    를 먹었습니다.\n",
      "나는 555555555개의 ###사과####를 먹었습니다.\n"
     ]
    }
   ],
   "source": [
    "a = \"사과\"\n",
    "b = \"당근\"\n",
    "c = \"오이\"\n",
    "d = 5\n",
    "e = 7.0\n",
    "\n",
    "print(a, b, c)                            # 문자 나열\n",
    "print(a+b+c)                              # 문자 더하기\n",
    "print(a*3)                                # 곱하기 = 문자 반복\n",
    "print(f\"나는 {d}개의 {a}를 먹었습니다.\")  # f-string : 변수 불러와 문장 입력 \n",
    "\n",
    "d1 = \"나는 %d개의 사과를 먹었습니다.\"      %3\n",
    "d2 = \"나는 %d개의 사과를 먹었습니다.\"      %d\n",
    "d3 = \"나는 %5d개의 사과를 먹었습니다.\"     %d\n",
    "d4 = \"나는 %05d개의 사과를 먹었습니다.\"    %d\n",
    "f1 = \"나는 %5.2f개의 사과를 먹었습니다.\"   %e\n",
    "f2 = \"나는 %012.4f개의 사과를 먹었습니다.\" %e\n",
    "\n",
    "print(d1)  #숫자만 따로 입력\n",
    "print(d2)  #숫자를 변수로 입력\n",
    "print(d3)  #5자리 출력\n",
    "print(d4)  #5자리 출력 (빈칸을 0으로)\n",
    "print(f1)  #5자리 출력 (소수점 이하 2자리 포함)\n",
    "print(f2)  #12자리 출력 (소수점 이하 4자리 포함)\n",
    "\n",
    "s1 = \"나는 5개의 %s를 먹었습니다.\"   %\"당근\"\n",
    "s2 = \"나는 5개의 %s를 먹었습니다.\"   %b\n",
    "s3 = \"나는 5개의 %5s를 먹었습니다.\"  %b\n",
    "s4 = \"나는 5개의 %-5s를 먹었습니다.\" %b\n",
    "\n",
    "print(s1)  #문자만 따로 입력\n",
    "print(s2)  #문자를 변수로 입력\n",
    "print(s3)  # 5자리 출력 (남는 문자 수는 왼쪽 들여쓰기)\n",
    "print(s4)  # 5자리 출력 (남는 문자 수는 오른쪽 들여쓰기)\n",
    "\n",
    "x1 = \"나는 {}개의 {}를 먹었습니다.\"          .format(7,\"오이\")\n",
    "x2 = \"나는 {4}개의 {2}를 먹었습니다.\"        .format(\"사과\", \"당근\", \"오이\", 5, 7)\n",
    "x3 = \"나는 {:07.2f}개의 {:3s}를 먹었습니다.\" .format(5, \"사과\")\n",
    "x4 = \"나는 {:>9}개의 {:>9}를 먹었습니다.\"    .format(5, \"사과\")\n",
    "x5 = \"나는 {:<9}개의 {:<9}를 먹었습니다.\"    .format(5, \"사과\")\n",
    "x6 = \"나는 {:^9}개의 {:^9}를 먹었습니다.\"    .format(5, \"사과\")\n",
    "x7 = \"나는 {:5^9}개의 {:#^9}를 먹었습니다.\"  .format(5, \"사과\")\n",
    "\n",
    "print(x1)  # format을 이용해서 여러 변수 적용\n",
    "print(x2)  # format 내 변수 순서를 지정 (안하면 왼쪽부터 0~ )\n",
    "print(x3)  # 자릿수 지정 (단, format 구문은 오른쪽 들여쓰기 불가능)\n",
    "print(x4)  # 오른쪽 정렬 : >\n",
    "print(x5)  # 왼쪽 정렬   : <\n",
    "print(x6)  # 가운데 정렬 : ^\n",
    "print(x7)  # 빈칸 채우기 : 정렬기호 앞에 입력\n"
   ]
  },
  {
   "cell_type": "code",
   "execution_count": 81,
   "id": "f9885747-1337-4504-9dee-3bd0a71b8eba",
   "metadata": {
    "tags": []
   },
   "outputs": [
    {
     "name": "stdout",
     "output_type": "stream",
     "text": [
      "40\n",
      "2\n",
      "72.0 점\n"
     ]
    }
   ],
   "source": [
    "i = \"I eat banana. but, you don't eat banana.\"\n",
    "print(len(i))             #전체 문자열 수\n",
    "print(i.count(\"banana\"))  #\"문자\" 개수\n",
    "\n",
    "#OMR 카드 점수 계산\n",
    "mydata = \"1001110110110011110111111\"\n",
    "tot = len(mydata)\n",
    "cor = mydata.count(\"1\")\n",
    "score = (cor/tot) *100\n",
    "print(score,\"점\")"
   ]
  },
  {
   "cell_type": "code",
   "execution_count": 127,
   "id": "f6469e02-6db4-4946-8d12-176b4e5bfed4",
   "metadata": {
    "tags": []
   },
   "outputs": [
    {
     "name": "stdout",
     "output_type": "stream",
     "text": [
      "6\n",
      "6\n",
      "-1\n"
     ]
    },
    {
     "data": {
      "text/plain": [
       "['891023', '1234567']"
      ]
     },
     "execution_count": 127,
     "metadata": {},
     "output_type": "execute_result"
    }
   ],
   "source": [
    "j = \"891023-1234567\"\n",
    "print(j.index(\"-\"))    # \"-\" 찾음 (왼쪽부터) 없으면 에러 // 리스트에서도 사용 가능\n",
    "print(j.find(\"-\"))     # \"-\" 찾음 (왼쪽부터) 없으면 -1 (index는 불가능)    \n",
    "print(j.find(\"|\"))     # -1이 나오는지 확인하여 에러 체크 (일단 돌아감 -> 인풋이 몇개 잘못 들어왔는지 체크 가능)\n",
    "j.split(\"-\")           # \"-\"를 기준으로 문장 쪼개기"
   ]
  },
  {
   "cell_type": "code",
   "execution_count": 131,
   "id": "d968a4e1-0279-4c42-8c85-868343c7d53c",
   "metadata": {
    "tags": []
   },
   "outputs": [
    {
     "name": "stdout",
     "output_type": "stream",
     "text": [
      "b-a-n-a-n-a\n",
      "banana\n",
      "    banana    \n",
      "banana\n",
      "    banana\n",
      "banana    \n",
      "I am haffy. me too.\n",
      "I am hafpy. me too.\n",
      "['안녕하세요?', '오늘', '날씨가', '아주', '덥네요.']\n",
      "['안녕하세요?', '', '오늘', '날씨가', '아주', '덥네요.']\n"
     ]
    }
   ],
   "source": [
    "k0 = \"banana\"\n",
    "k1 = ['b','a','n','a','n','a']\n",
    "k2 = \"-\".join(k0)\n",
    "k3 = \"\".join(k1)\n",
    "\n",
    "print(k2)\n",
    "print(k3)\n",
    "\n",
    "k4 = \"    banana    \"\n",
    "print(k4)\n",
    "print(k4.strip())  # 좌우측 빈칸 제거\n",
    "print(k4.rstrip()) # 우측 빈칸 제거\n",
    "print(k4.lstrip()) # 좌측 빈칸 제거\n",
    "\n",
    "q = \"I am happy. me too.\"\n",
    "print(q.replace(\"p\", \"f\"))   # p -> f 로 변경\n",
    "print(q.replace(\"p\", \"f\",1)) # p -> f 로 변경, 1번만\n",
    "\n"
   ]
  },
  {
   "cell_type": "code",
   "execution_count": 164,
   "id": "2f4ce87a-2dbf-4a63-a69d-f1b16ec6a3b5",
   "metadata": {
    "tags": []
   },
   "outputs": [
    {
     "name": "stdout",
     "output_type": "stream",
     "text": [
      "['안녕하세요?', '오늘', '날씨가', '아주', '덥네요.']\n",
      "['안녕하세요?', '', '오늘', '날씨가', '아주', '덥네요.']\n"
     ]
    },
    {
     "name": "stdin",
     "output_type": "stream",
     "text": [
      "이메일 주소 입력 test@gmail.com\n"
     ]
    },
    {
     "name": "stdout",
     "output_type": "stream",
     "text": [
      "아이디는 test 도메인은 gmail.com\n"
     ]
    }
   ],
   "source": [
    "data = \"안녕하세요?  오늘 날씨가 아주 덥네요.\"\n",
    "print(data.split())\n",
    "print(data.split(\" \"))\n",
    "\n",
    "email = input(\"이메일 주소 입력\")\n",
    "email = email.split(\"@\")\n",
    "print(\"아이디는\",email[0],\"도메인은\",email[1])\n",
    "      "
   ]
  },
  {
   "cell_type": "code",
   "execution_count": 160,
   "id": "93d61962-ece7-462a-8813-56482721a2c8",
   "metadata": {
    "tags": []
   },
   "outputs": [
    {
     "name": "stdout",
     "output_type": "stream",
     "text": [
      "play\n"
     ]
    }
   ],
   "source": [
    "keyword = \"play\"\n",
    "str1 = \"I like to play baseball.\"\n",
    "loc = str1.find(keyword)\n",
    "lng = len(keyword)\n",
    "print(str1[loc:loc+lng])"
   ]
  },
  {
   "cell_type": "code",
   "execution_count": 173,
   "id": "8b1825a3-3dfe-47a0-84b2-91e58d801b34",
   "metadata": {
    "tags": []
   },
   "outputs": [
    {
     "name": "stdin",
     "output_type": "stream",
     "text": [
      "전화번호를 입력해 주세요. 031-330-7800\n"
     ]
    },
    {
     "name": "stdout",
     "output_type": "stream",
     "text": [
      "경기도\n"
     ]
    }
   ],
   "source": [
    "# 전화번호를 입력받아 지역을 나타낸다. : 02-123-4567\n",
    "call = input(\"전화번호를 입력해 주세요.\")\n",
    "#call = \"02-123-4567\" \n",
    "call = call.split(\"-\")\n",
    "if call[0] == \"02\":\n",
    "    print(\"서울\")\n",
    "elif call[0] == \"031\":\n",
    "    print(\"경기도\")\n",
    "else:\n",
    "    print(\"그 외\")\n"
   ]
  },
  {
   "cell_type": "code",
   "execution_count": 188,
   "id": "a0957f99-a1eb-494c-8b6d-e84192fab75d",
   "metadata": {
    "tags": []
   },
   "outputs": [
    {
     "name": "stdin",
     "output_type": "stream",
     "text": [
      "전화번호를 입력해 주세요. 0313307800\n"
     ]
    },
    {
     "name": "stdout",
     "output_type": "stream",
     "text": [
      "경기도\n",
      "031\n",
      "경기도\n"
     ]
    }
   ],
   "source": [
    "call2 = input(\"전화번호를 입력해 주세요.\")\n",
    "if call2[0:2] == \"02\":\n",
    "    print(\"서울\")\n",
    "elif call2[0:3] == \"031\":\n",
    "    print(\"경기도\")\n",
    "else:\n",
    "    print(\"그 외\")\n",
    "    \n",
    "c = call2[:-7]\n",
    "print(c)\n",
    "if c == \"02\":\n",
    "    print(\"서울\")\n",
    "elif c == \"031\":\n",
    "    print(\"경기도\")\n",
    "else:\n",
    "    print(\"그 외\")"
   ]
  }
 ],
 "metadata": {
  "kernelspec": {
   "display_name": "Python 3 (ipykernel)",
   "language": "python",
   "name": "python3"
  },
  "language_info": {
   "codemirror_mode": {
    "name": "ipython",
    "version": 3
   },
   "file_extension": ".py",
   "mimetype": "text/x-python",
   "name": "python",
   "nbconvert_exporter": "python",
   "pygments_lexer": "ipython3",
   "version": "3.11.3"
  }
 },
 "nbformat": 4,
 "nbformat_minor": 5
}
