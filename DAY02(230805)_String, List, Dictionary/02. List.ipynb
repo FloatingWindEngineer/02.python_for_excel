{
 "cells": [
  {
   "cell_type": "markdown",
   "id": "94a84cdd-b3e2-4ed7-b1da-fcc6eac9616b",
   "metadata": {},
   "source": [
    "# 리스트"
   ]
  },
  {
   "cell_type": "code",
   "execution_count": 79,
   "id": "7ae8ace9-5440-4f5b-8457-eec29957e2c9",
   "metadata": {
    "tags": []
   },
   "outputs": [
    {
     "name": "stdout",
     "output_type": "stream",
     "text": [
      "<class 'list'>\n",
      "[1, 2, 3, 4, 5]\n",
      "1 2 3 4 5\n",
      "[2, 4, 6, 8, 10]\n",
      "['배', '고', '파']\n",
      "['배', '고', '파', '요']\n",
      "['진짜', '배', '고', '파', '요']\n",
      "['배', '고', '파', '요']\n",
      "['배', '고', '파']\n",
      "[2, 4, 6, 8, 10, 5, 4, 3, 2, 1]\n",
      "4\n",
      "2\n",
      "[1, 2, 2, 3, 4, 4, 5, 6, 8, 10]\n"
     ]
    }
   ],
   "source": [
    "a = [1,2,3,4,5]\n",
    "b = [\"배\",\"고\",\"파\"]\n",
    "c = [1,\"배\",2,\"고\",3,\"파\"]\n",
    "d = [5,4,3,2,1]\n",
    "print(type(a))\n",
    "print(a)\n",
    "print(a[0],a[1],a[2],a[3],a[4])\n",
    "\n",
    "for i in range(len(a)):  #List 2배로 만들기  // 리스트는 데이터 변경 가능, but 튜플은 데이터를 수정 불가능\n",
    "    a[i] = a[i] * 2\n",
    "print(a)\n",
    "\n",
    "print(b)\n",
    "b.append(\"요\")      # 뒤에 추가 // *변수를 선언하지 않으면 용량을 줄일 수 있음\n",
    "print(b)\n",
    "b.insert(0,\"진짜\")  # 인덱스 번호에 추가 // 0이면 제일 처음에 추가\n",
    "print(b)\n",
    "b.remove(\"진짜\")  # 해당 문자 삭제\n",
    "print(b)\n",
    "\n",
    "print(c[1:6:2])\n",
    "\n",
    "e = a + d\n",
    "print(e) # 리스트의 합은 순서대로 나열\n",
    "print(e.index(10))\n",
    "print(e.count(4))\n",
    "\n",
    "e.sort() # 오름차순으로 나열 ##리턴값이 없음\n",
    "print(e)               "
   ]
  },
  {
   "cell_type": "code",
   "execution_count": 80,
   "id": "a2c2405d-e8fe-43b3-8830-0161cf55a7f4",
   "metadata": {
    "collapsed": true,
    "jupyter": {
     "outputs_hidden": true,
     "source_hidden": true
    },
    "tags": []
   },
   "outputs": [
    {
     "name": "stdout",
     "output_type": "stream",
     "text": [
      "[[1, 2, 3], [4, 5, 6], [7, 8, 9]]\n",
      "[1, 2, 3] [4, 5, 6] [7, 8, 9]\n",
      "1 2 3 4 5 6 7 8 9\n",
      "0\n",
      "  0\n",
      "    2\n",
      "  1\n",
      "    4\n",
      "  2\n",
      "    6\n",
      "1\n",
      "  0\n",
      "    8\n",
      "  1\n",
      "    10\n",
      "  2\n",
      "    12\n",
      "2\n",
      "  0\n",
      "    14\n",
      "  1\n",
      "    16\n",
      "  2\n",
      "    18\n",
      "[[2, 4, 6], [8, 10, 12], [14, 16, 18]]\n"
     ]
    }
   ],
   "source": [
    "\n",
    "d = [[1,2,3],[4,5,6],[7,8,9]]\n",
    "\n",
    "print(d) #엑셀 2차원\n",
    "print(d[0],d[1],d[2])\n",
    "print(d[0][0],d[0][1],d[0][2],d[1][0],d[1][1],d[1][2],d[2][0],d[2][1],d[2][2])\n",
    "\n",
    "## 왼쪽에서 오른쪽으로 계산된 후 위에서 아래로 계산\n",
    "for i in range(len(d[0])): \n",
    "    print(i)\n",
    "    for j in range(len(d[0])):\n",
    "        print(\" \",j)\n",
    "        d[i][j] = d[i][j] * 2\n",
    "        print(\"   \",d[i][j])\n",
    "print(d)"
   ]
  },
  {
   "cell_type": "markdown",
   "id": "b0702f2d-807a-4376-8392-f9a522d051d8",
   "metadata": {},
   "source": [
    "# 튜플\n",
    "정의 후 데이터 추가, 수정, 삭제 등을 할 수 없음 -> 바뀌면 안되는 값에 적용 (원본)"
   ]
  },
  {
   "cell_type": "code",
   "execution_count": 77,
   "id": "c7ead9d3-796a-4966-9370-f51d29187c6e",
   "metadata": {
    "tags": []
   },
   "outputs": [
    {
     "name": "stdout",
     "output_type": "stream",
     "text": [
      "<class 'tuple'>\n",
      "<class 'int'>\n",
      "<class 'tuple'>\n",
      "[1, 3, 2]\n",
      "(1, 3, 2)\n",
      "[1, 2, 3]\n",
      "나는 5개의 복숭아를 먹었습니다.\n"
     ]
    }
   ],
   "source": [
    "x = (1, 3, 2)\n",
    "y = (1)\n",
    "z = (1,)              # 튜플로 인식시키기 위해 ,입력 필요\n",
    "print(type(x))\n",
    "print(type(y))\n",
    "print(type(z))\n",
    " \n",
    "x1 = list(x)          # 튜플 -> 리스트로 변경\n",
    "x2 = tuple(x1)        # 리스트 -> 튜플로 변경\n",
    "print(x1)\n",
    "print(x2)\n",
    "x3 = sorted(x)        # 리스트로 변경됨\n",
    "print(x3)\n",
    "\n",
    "e = 5\n",
    "f = \"복숭아\"\n",
    "s1 = \"나는 %d개의 %s를 먹었습니다.\" %(e,f) # %연산자의 경우 튜플로 복수개 적용 가능 -> f-string이 나중에 추가되어 더 편리한 기능\n",
    "print(s1)"
   ]
  },
  {
   "cell_type": "markdown",
   "id": "1e9f6523-e34d-4ed3-a5a8-f331c2949643",
   "metadata": {},
   "source": [
    "## 연습문제  \n",
    "1. \"사과\", \"배\", \"옥수수\", \"감자\", \"수박\"을 리스트로 만들고 출력\n",
    "2. 두번째 항목과 마지막 항목을 출력\n",
    "3. 옥수수 위치를 출력\n",
    "4. 마지막 2개 요소만 출력"
   ]
  },
  {
   "cell_type": "code",
   "execution_count": 103,
   "id": "c175c5d1-0c45-47d7-9d39-ec8341ce4a32",
   "metadata": {
    "tags": []
   },
   "outputs": [
    {
     "name": "stdout",
     "output_type": "stream",
     "text": [
      "배 수박\n",
      "2\n",
      "['감자', '수박']\n",
      "['감자', '수박']\n"
     ]
    }
   ],
   "source": [
    "item = [\"사과\", \"배\", \"옥수수\", \"감자\", \"수박\"]\n",
    "print(item[1],item[4])\n",
    "print(item.index(\"옥수수\")) #find는 안먹힘\n",
    "print(item[-2:])"
   ]
  },
  {
   "cell_type": "code",
   "execution_count": 101,
   "id": "89f91494-930b-4850-9372-65c8f77d4aa4",
   "metadata": {
    "tags": []
   },
   "outputs": [
    {
     "name": "stdout",
     "output_type": "stream",
     "text": [
      "['사과', ' 배', ' 옥수수', ' 감자', ' 수박']\n",
      "사과# 배# 옥수수# 감자# 수박\n"
     ]
    }
   ],
   "source": [
    "item2 = \"사과, 배, 옥수수, 감자, 수박\"\n",
    "i = item2.split(\",\")\n",
    "print(i)\n",
    "i2 = \"#\".join(i)\n",
    "print(i2)\n"
   ]
  },
  {
   "cell_type": "markdown",
   "id": "4ccc460b-9fad-4799-b49c-4dfbb5e3c05b",
   "metadata": {},
   "source": [
    "## 연습문제2  \n",
    "name = [\"김\", \"이\", \"박\", [\"최\", \"정\", \"강\"] \"홍\"]  \n",
    "1. 리스트 길이를 구하고 자신의 이름을 맨 뒤에 추가\n",
    "2. \"강\"을 리스트에서 제거\n",
    "3. \"서\"를 \"홍\" 앞에 추가\n",
    "\n",
    "list = [1,7,2,9,3,6,5]\n",
    "1. 오름차순 정렬\n",
    "2. 내림차순 정렬"
   ]
  },
  {
   "cell_type": "code",
   "execution_count": 145,
   "id": "2c329d6b-d235-43e3-aae6-6033b7473746",
   "metadata": {
    "tags": []
   },
   "outputs": [
    {
     "name": "stdout",
     "output_type": "stream",
     "text": [
      "['김', '이', '박', ['최', '정', '강'], '홍', '정태']\n",
      "['김', '이', '박', ['최', '정'], '홍', '정태']\n",
      "4\n",
      "['김', '이', '박', ['최', '정'], '서', '홍', '정태']\n",
      "[1, 2, 3, 5, 6, 7, 9]\n",
      "[9, 7, 6, 5, 3, 2, 1]\n",
      "['반도체', '자동차', '미국주식']\n"
     ]
    }
   ],
   "source": [
    "name = [\"김\", \"이\", \"박\", [\"최\", \"정\", \"강\"], \"홍\"] \n",
    "a = len(name)\n",
    "name.append(\"정태\")\n",
    "print(name)\n",
    "\n",
    "#name.remove(\"강\")         \n",
    "name[3].remove(\"강\")       # 리스트 내 리스트의 경우 하위 리스트까지 지정해줘야 함.\n",
    "print(name)\n",
    "\n",
    "c = name.index(\"홍\")\n",
    "print(c)\n",
    "name.insert(c,\"서\")\n",
    "print(name)\n",
    "\n",
    "i = [1,7,2,9,3,6,5]\n",
    "i.sort()\n",
    "print(i)\n",
    "i.reverse()\n",
    "print(i)\n",
    "\n",
    "x = [['삼성전자','SK하이닉스','반도체'],['테슬라','현대자동차','자동차'],['애플','아마존','미국주식']]\n",
    "y = []\n",
    "\n",
    "for i in range(0,len(x)):\n",
    "    y.append(x[i][-1])\n",
    "\n",
    "print(y)\n"
   ]
  },
  {
   "cell_type": "code",
   "execution_count": 157,
   "id": "e77639c0-38a3-483c-b04d-07a4d10696c5",
   "metadata": {
    "tags": []
   },
   "outputs": [
    {
     "ename": "TypeError",
     "evalue": "'list' object is not callable",
     "output_type": "error",
     "traceback": [
      "\u001b[1;31m---------------------------------------------------------------------------\u001b[0m",
      "\u001b[1;31mTypeError\u001b[0m                                 Traceback (most recent call last)",
      "Cell \u001b[1;32mIn[157], line 1\u001b[0m\n\u001b[1;32m----> 1\u001b[0m c \u001b[38;5;241m=\u001b[39m \u001b[38;5;28mlist\u001b[39m(\u001b[38;5;28mrange\u001b[39m(\u001b[38;5;241m1\u001b[39m,\u001b[38;5;241m10\u001b[39m))\n\u001b[0;32m      2\u001b[0m \u001b[38;5;28mtype\u001b[39m(a)\n",
      "\u001b[1;31mTypeError\u001b[0m: 'list' object is not callable"
     ]
    }
   ],
   "source": [
    "c = list(range(1,10))\n",
    "type(a)\n",
    "#print(a)\n"
   ]
  }
 ],
 "metadata": {
  "kernelspec": {
   "display_name": "Python 3 (ipykernel)",
   "language": "python",
   "name": "python3"
  },
  "language_info": {
   "codemirror_mode": {
    "name": "ipython",
    "version": 3
   },
   "file_extension": ".py",
   "mimetype": "text/x-python",
   "name": "python",
   "nbconvert_exporter": "python",
   "pygments_lexer": "ipython3",
   "version": "3.11.3"
  }
 },
 "nbformat": 4,
 "nbformat_minor": 5
}
