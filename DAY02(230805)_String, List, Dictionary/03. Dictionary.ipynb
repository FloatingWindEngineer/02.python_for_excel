{
 "cells": [
  {
   "cell_type": "markdown",
   "id": "0fd27bf8-b1eb-41f3-9392-9786c0c1981d",
   "metadata": {},
   "source": [
    "# 딕셔너리(Dictionary)\n",
    "변수명 = { key값(index번호) : 실제값 }"
   ]
  },
  {
   "cell_type": "code",
   "execution_count": 26,
   "id": "6222dffc-d57f-4326-99cd-12e8d18e22f1",
   "metadata": {
    "tags": []
   },
   "outputs": [
    {
     "name": "stdout",
     "output_type": "stream",
     "text": [
      "감자탕\n",
      "짜장면\n",
      "5\n",
      "['떡뽁이', '라면', '라뽁이']\n",
      "20\n"
     ]
    }
   ],
   "source": [
    "dinner = {1:\"감자탕\", 2:\"갈비탕\", 3:\"짜장면\"}                                            #기본 형태\n",
    "dinner2 = {3:\"감자탕\", 2:\"갈비탕\", 1:\"짜장면\"}                                           #순서에 무관함\n",
    "dinner3 = {\"감자탕\": 4, \"설렁탕\": 2 , \"짬뽕\":5}                                          #숫자, 문자 상관없음\n",
    "dinner4 = {\"중국집\" : [\"짜장면\", \"볶음밥\", \"짬뽕\"], \"분식\" : [\"떡뽁이\",\"라면\",\"라뽁이\"]} #리스트로 입력 가능\n",
    "member = {\"나이\" : 20, \"이름\" : \"김아무개\", \"뭄무게\" : 60, \"키\" : 180}                  # 보편적인 형태\n",
    "type(dinner)\n",
    "print(dinner[1])\n",
    "print(dinner2[1])\n",
    "print(dinner3[\"짬뽕\"])\n",
    "print(dinner4[\"분식\"])\n",
    "print(member.get(\"나이\"))\n"
   ]
  },
  {
   "cell_type": "code",
   "execution_count": 30,
   "id": "de46bc39-7ae7-45dd-a7b6-4b3e1a2b0c1b",
   "metadata": {
    "tags": []
   },
   "outputs": [
    {
     "name": "stdout",
     "output_type": "stream",
     "text": [
      "{'나이': 20, '이름': '김진짜', '뭄무게': 60, '키': 180}\n"
     ]
    }
   ],
   "source": [
    "member.keys()    #엑셀에서는 구분 항목\n",
    "\"이름\" in member # 해당 구분 항목이 있는지 확인 -> True or False\n",
    "member[\"이름\"] = \"김진짜\"\n",
    "print(member)"
   ]
  },
  {
   "cell_type": "code",
   "execution_count": 28,
   "id": "417fea86-e2e1-4b70-9cba-7d748a15fcc4",
   "metadata": {
    "tags": []
   },
   "outputs": [
    {
     "data": {
      "text/plain": [
       "dict_values([20, '김아무개', 60, 180])"
      ]
     },
     "execution_count": 28,
     "metadata": {},
     "output_type": "execute_result"
    }
   ],
   "source": [
    "member.values() # 항목별 실제 값\n",
    "member"
   ]
  },
  {
   "cell_type": "code",
   "execution_count": 31,
   "id": "270b5bcc-a151-49bc-92c5-7740324e9030",
   "metadata": {
    "tags": []
   },
   "outputs": [
    {
     "data": {
      "text/plain": [
       "dict_items([('나이', 20), ('이름', '김진짜'), ('뭄무게', 60), ('키', 180)])"
      ]
     },
     "execution_count": 31,
     "metadata": {},
     "output_type": "execute_result"
    }
   ],
   "source": [
    "member.items() # List 내 각각의 항목이 튜플로 생성됨\n"
   ]
  },
  {
   "cell_type": "code",
   "execution_count": 34,
   "id": "7c4655ba-2d46-4e55-a0ee-90604d2de36c",
   "metadata": {
    "tags": []
   },
   "outputs": [
    {
     "name": "stdout",
     "output_type": "stream",
     "text": [
      "{}\n"
     ]
    }
   ],
   "source": [
    "member.clear() # 삭제\n",
    "print(member)"
   ]
  },
  {
   "cell_type": "markdown",
   "id": "3d14a01f-40ac-4341-b494-ee53f7931d74",
   "metadata": {},
   "source": [
    "# 연습문제\n",
    "1. value값을 전부 곱한 값 출력"
   ]
  },
  {
   "cell_type": "code",
   "execution_count": 40,
   "id": "53ee0c75-e907-4a63-a6b5-69750f4c1633",
   "metadata": {
    "tags": []
   },
   "outputs": [
    {
     "name": "stdout",
     "output_type": "stream",
     "text": [
      "-1500000\n"
     ]
    }
   ],
   "source": [
    "my_dict = {'data1':500,'data2':-10,'data3':300}\n",
    "result = my_dict['data1'] * my_dict['data2'] * my_dict['data3']\n",
    "print(result)"
   ]
  },
  {
   "cell_type": "code",
   "execution_count": 94,
   "id": "dd1afd5f-3e0f-46e0-86fe-77406939b70a",
   "metadata": {
    "tags": []
   },
   "outputs": [
    {
     "name": "stdout",
     "output_type": "stream",
     "text": [
      "[{'student_id': 1, 'subject': 'math', 'midterm': 60, 'final': 85}, {'student_id': 2, 'subject': 'math', 'midterm': 80, 'final': 78}, {'student_id': 3, 'subject': 'math', 'midterm': 90, 'final': 85}, {'student_id': 4, 'subject': 'math', 'midterm': 100, 'final': 100}, {'student_id': 5, 'subject': 'math', 'midterm': 98, 'final': 100}]\n",
      "5\n",
      "{'student_id': 1, 'subject': 'math', 'midterm': 60, 'final': 85, 'mean': 72.5}\n",
      "{'student_id': 2, 'subject': 'math', 'midterm': 80, 'final': 78, 'mean': 79.0}\n",
      "{'student_id': 3, 'subject': 'math', 'midterm': 90, 'final': 85, 'mean': 87.5}\n"
     ]
    },
    {
     "ename": "IndexError",
     "evalue": "list assignment index out of range",
     "output_type": "error",
     "traceback": [
      "\u001b[1;31m---------------------------------------------------------------------------\u001b[0m",
      "\u001b[1;31mIndexError\u001b[0m                                Traceback (most recent call last)",
      "Cell \u001b[1;32mIn[94], line 19\u001b[0m\n\u001b[0;32m     17\u001b[0m \u001b[38;5;28;01mfor\u001b[39;00m i \u001b[38;5;129;01min\u001b[39;00m \u001b[38;5;28mrange\u001b[39m(n):\n\u001b[0;32m     18\u001b[0m     \u001b[38;5;28;01mif\u001b[39;00m student_details_new[i][\u001b[38;5;124m'\u001b[39m\u001b[38;5;124msubject\u001b[39m\u001b[38;5;124m'\u001b[39m] \u001b[38;5;241m==\u001b[39m \u001b[38;5;124m'\u001b[39m\u001b[38;5;124mmath\u001b[39m\u001b[38;5;124m'\u001b[39m:\n\u001b[1;32m---> 19\u001b[0m         mean[i] \u001b[38;5;241m=\u001b[39m \u001b[38;5;241m0.5\u001b[39m \u001b[38;5;241m*\u001b[39m (student_details_new[i][\u001b[38;5;124m'\u001b[39m\u001b[38;5;124mmidterm\u001b[39m\u001b[38;5;124m'\u001b[39m] \u001b[38;5;241m+\u001b[39m student_details_new[i][\u001b[38;5;124m'\u001b[39m\u001b[38;5;124mfinal\u001b[39m\u001b[38;5;124m'\u001b[39m])\n\u001b[0;32m     20\u001b[0m         student_details_new[i][\u001b[38;5;124m'\u001b[39m\u001b[38;5;124mmean\u001b[39m\u001b[38;5;124m'\u001b[39m] \u001b[38;5;241m=\u001b[39m mean[i]\n\u001b[0;32m     21\u001b[0m         \u001b[38;5;28mprint\u001b[39m(student_details_new[i])\n",
      "\u001b[1;31mIndexError\u001b[0m: list assignment index out of range"
     ]
    }
   ],
   "source": [
    "student_details = [\n",
    "    {'student_id' : 1, 'subject':'math', 'midterm' : 60, 'final':85},\n",
    "    {'student_id' : 2, 'subject':'math', 'midterm' : 80, 'final':78},\n",
    "    {'student_id' : 3, 'subject':'math', 'midterm' : 90, 'final':85},\n",
    "]\n",
    "\n",
    "new_commer = [\n",
    "    {'student_id' : 4, 'subject':'math', 'midterm' : 100, 'final':100},\n",
    "    {'student_id' : 5, 'subject':'math', 'midterm' : 98, 'final':100}\n",
    "]\n",
    "\n",
    "student_details_new = student_details + new_commer\n",
    "print(student_details_new)\n",
    "\n",
    "n = len(student_details_new)\n",
    "print(n)\n",
    "for i in range(n):\n",
    "    if student_details_new[i]['subject'] == 'math':\n",
    "        mean[i] = 0.5 * (student_details_new[i]['midterm'] + student_details_new[i]['final'])\n",
    "        student_details_new[i]['mean'] = mean[i]\n",
    "        print(student_details_new[i])\n",
    "    else:\n",
    "        print(\"check the subject\")\n",
    "\n"
   ]
  },
  {
   "cell_type": "code",
   "execution_count": 92,
   "id": "00e50b11-a728-428b-bc1d-c49279ad2f85",
   "metadata": {
    "tags": []
   },
   "outputs": [
    {
     "name": "stdout",
     "output_type": "stream",
     "text": [
      "{'김밥': 3000, '떡뽁이': 4500, '어묵': 2000, '튀김': 3000}\n",
      "dict_keys(['김밥', '떡뽁이', '어묵', '튀김']) dict_values([3000, 4500, 2000, 3000])\n",
      "{'김밥': 3000, '떡뽁이': 4500, '어묵': 2000, '튀김': 3000}\n"
     ]
    }
   ],
   "source": [
    "menu = dict(김밥=3000,떡뽁이=4500,어묵=2000,튀김=3000)\n",
    "print(menu)\n",
    "\n",
    "k = menu.keys()\n",
    "v = menu.values()\n",
    "print(k,v)\n",
    "menu2 = dict(zip(k,v))\n",
    "print(menu2)"
   ]
  },
  {
   "cell_type": "code",
   "execution_count": 91,
   "id": "744a0935-4f7a-4373-bf91-b535b27275e3",
   "metadata": {
    "tags": []
   },
   "outputs": [
    {
     "name": "stdout",
     "output_type": "stream",
     "text": [
      "dict_keys(['김밥', '떡뽁이', '어묵', '튀김']) dict_values([3000, 4500, 2000, 3000])\n",
      "{'김밥': 3000, '떡뽁이': 4500, '어묵': 2000, '튀김': 3000}\n"
     ]
    }
   ],
   "source": []
  }
 ],
 "metadata": {
  "kernelspec": {
   "display_name": "Python 3 (ipykernel)",
   "language": "python",
   "name": "python3"
  },
  "language_info": {
   "codemirror_mode": {
    "name": "ipython",
    "version": 3
   },
   "file_extension": ".py",
   "mimetype": "text/x-python",
   "name": "python",
   "nbconvert_exporter": "python",
   "pygments_lexer": "ipython3",
   "version": "3.11.3"
  }
 },
 "nbformat": 4,
 "nbformat_minor": 5
}
