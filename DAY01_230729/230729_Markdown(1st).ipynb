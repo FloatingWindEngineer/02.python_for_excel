{
 "cells": [
  {
   "cell_type": "markdown",
   "id": "4a24f4ff-7af8-4909-8ef4-d29e23bfbac5",
   "metadata": {
    "tags": []
   },
   "source": [
    "# 대제목"
   ]
  },
  {
   "cell_type": "markdown",
   "id": "c25ac17e-719f-4c87-b389-118c8075a76d",
   "metadata": {
    "tags": []
   },
   "source": [
    "## 중제목"
   ]
  },
  {
   "cell_type": "markdown",
   "id": "fcf4185a-3d4c-4b58-a8fc-a34c22608137",
   "metadata": {},
   "source": [
    "### 소제목"
   ]
  },
  {
   "cell_type": "markdown",
   "id": "9522696c-c81e-458b-8893-8b6c11526482",
   "metadata": {
    "tags": []
   },
   "source": [
    "**내용1**  \n",
    "내용2"
   ]
  },
  {
   "cell_type": "markdown",
   "id": "cb5145da-dc6c-4437-99e8-4e40e7fc25c2",
   "metadata": {},
   "source": [
    "$ x = y^2 $"
   ]
  },
  {
   "cell_type": "markdown",
   "id": "33795f2f-9d03-4e92-bfc2-7c238fc70a01",
   "metadata": {},
   "source": [
    "$ \\pi $"
   ]
  },
  {
   "cell_type": "markdown",
   "id": "dbe2d407-c6ec-47ac-ba7d-9be9cb5d58e9",
   "metadata": {},
   "source": [
    "$ x = 1/y $"
   ]
  },
  {
   "cell_type": "markdown",
   "id": "202ab01d-83be-49b7-98e8-03d651a22739",
   "metadata": {},
   "source": [
    "$ x = \\frac{1}{y} $"
   ]
  },
  {
   "cell_type": "markdown",
   "id": "e6fb3dda-002a-4346-8ddd-41973c8393a5",
   "metadata": {},
   "source": [
    "헤더1 | 헤더2  \n",
    "--|--  \n",
    "내용1 | 내용2"
   ]
  },
  {
   "cell_type": "code",
   "execution_count": null,
   "id": "9d35b1d3-540e-4b74-96f7-c46503b1934a",
   "metadata": {},
   "outputs": [],
   "source": []
  }
 ],
 "metadata": {
  "kernelspec": {
   "display_name": "Python 3 (ipykernel)",
   "language": "python",
   "name": "python3"
  },
  "language_info": {
   "codemirror_mode": {
    "name": "ipython",
    "version": 3
   },
   "file_extension": ".py",
   "mimetype": "text/x-python",
   "name": "python",
   "nbconvert_exporter": "python",
   "pygments_lexer": "ipython3",
   "version": "3.11.3"
  }
 },
 "nbformat": 4,
 "nbformat_minor": 5
}
