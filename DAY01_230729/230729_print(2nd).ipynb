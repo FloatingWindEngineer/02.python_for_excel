{
 "cells": [
  {
   "cell_type": "markdown",
   "id": "7bc2ca82-a0c2-4275-b964-2e85b0ba4e2a",
   "metadata": {
    "tags": []
   },
   "source": [
    "# 출력하기(7/29)"
   ]
  },
  {
   "cell_type": "markdown",
   "id": "dc24daf0-b68b-4f90-ba1a-8dc771d8b619",
   "metadata": {
    "tags": []
   },
   "source": [
    "## 기본 출력  \n",
    " * print(value1, value2, ...)            : 기본 형식 스페이스 적용\n",
    " * print(value1, value2, ..., sep=\",\")   : 형식 변경 ,적용\n",
    " * print(value1, value2, ..., sep=\"\")    : 형식 변경 스페이스 지움\n",
    " * print(value1, value2, ..., end=\"m/s\") : 출력 끝에 문자 추가\n",
    " * print(\"\"\" 문장 입력 \"\"\")              : 문장 입력, 엔터, 스페이스 등"
   ]
  },
  {
   "cell_type": "code",
   "execution_count": 40,
   "id": "211665c7-81d4-4b0e-9990-4c04ac17d543",
   "metadata": {
    "tags": []
   },
   "outputs": [
    {
     "name": "stdout",
     "output_type": "stream",
     "text": [
      "1\n",
      "hello\n",
      "\"\n",
      "hello world\n",
      "2 + 3 = 5\n",
      "apple, banana\n",
      "kjt1023@nate.com\n",
      "6.28 m/s \n",
      "커피가 상했네\n",
      "온도가 너무 높았나\n",
      "먹어야 할지 말아야 할지\n"
     ]
    }
   ],
   "source": [
    "print(1)                                # 숫자\n",
    "print(\"hello\")                          # 문자\n",
    "print(\"\\\"\")                             # 이스케이프 \\기호, \\n(줄나눔), \\t(탭, 4칸)\n",
    "print(\"hello\", \"world\")                 # 문자 + 문자\n",
    "print(\"2 + 3 =\",2+3)                    # 문자 + 숫자\n",
    "print(\"apple\", \"banana\", sep=\", \")      # 형식 변경 스페이스 -> 콤마\n",
    "print(\"kjt1023\",\"@\",\"nate.com\", sep=\"\") # 형식 변경 스페이스 삭제\n",
    "print(2*3.14, end=\" m/s \\n\")            # 끝문자 단위 추가 (기본값 \\n)\n",
    "print(\"\"\"커피가 상했네\n",
    "온도가 너무 높았나\n",
    "먹어야 할지 말아야 할지\"\"\")              # 여러줄 입력"
   ]
  },
  {
   "cell_type": "markdown",
   "id": "b385ce63-c8b8-45f8-a6d1-ea856f04fdf9",
   "metadata": {
    "tags": []
   },
   "source": [
    "## 변수 선언  \n",
    " * 변수명은 영문자, 숫자, 언더바로 구성됨\n",
    " * 특수문자, 공백은 불가능\n",
    " * 파이썬 예약어도 불가능\n",
    " * 들여쓰기(indent) 유의\n",
    " * 대소문자 구분함\n",
    " * type(변수) : 자료형 확인\n",
    " * int(숫자) : 정수로 변환\n",
    " * str(숫자) : 문자로 변환"
   ]
  },
  {
   "cell_type": "code",
   "execution_count": 49,
   "id": "9b181ae3-f539-470c-b562-cbfaa6070e30",
   "metadata": {
    "tags": []
   },
   "outputs": [
    {
     "name": "stdout",
     "output_type": "stream",
     "text": [
      "1004 1004\n",
      "<class 'str'> <class 'int'> <class 'float'>\n",
      "<class 'int'> <class 'int'>\n",
      "10041004\n",
      "1004 1004 1004\n",
      "1004 1004.0 1004\n"
     ]
    }
   ],
   "source": [
    "value1 = \"1004\"                                 # 문자(str)\n",
    "value2 = 1004                                   # 숫자; 정수(int)\n",
    "value3 = 1004.00                                # 숫자; 실수(float)\n",
    "value4 = value5 = value6 = 1004                 # 동시 할당\n",
    "value7, value8, value9 = 1004, 1004.00, 1004       # 개별 할당\n",
    "print(value1, value2)                           # 출력 -> 구분할 수 없는 경우가 있음\n",
    "print(type(value1), type(value2), type(value3)) # 자료형 출력\n",
    "print(type(value2), type(int(value3)))        \n",
    "print(value1 + str(value2))\n",
    "print(value4, value5, value6)\n",
    "print(value7, value8, value9)\n"
   ]
  },
  {
   "cell_type": "markdown",
   "id": "e828c99d-676f-49e3-9d07-35c8b07e9f5e",
   "metadata": {
    "tags": []
   },
   "source": [
    "## 산술 연산자\n",
    " * += : 같은 변수에 더하기  \n",
    " * -= : 같은 변수에 빼기  \n",
    " * *= : 같은 변수에 곱하기  \n",
    " * /= : 같은 변수에 나누기  "
   ]
  },
  {
   "cell_type": "code",
   "execution_count": 55,
   "id": "84526f80-08f6-40de-b9a7-2ac11a92d37b",
   "metadata": {
    "tags": []
   },
   "outputs": [
    {
     "name": "stdout",
     "output_type": "stream",
     "text": [
      "2\n",
      "3\n",
      "2\n",
      "4\n",
      "2.0\n"
     ]
    }
   ],
   "source": [
    "num = 1\n",
    "num = num + 1 \n",
    "print(num)\n",
    "num += 1\n",
    "print(num)\n",
    "\n",
    "num -= 1\n",
    "print(num)\n",
    "num *= 2\n",
    "print(num)\n",
    "num /= 2\n",
    "print(num)\n"
   ]
  },
  {
   "cell_type": "markdown",
   "id": "1130ed6c-f099-4016-8d7f-31c94942de84",
   "metadata": {
    "tags": []
   },
   "source": [
    "## 대소 관계\n",
    " * == : 같으면 True 다른 Falue  \n",
    " * \\>= : 크거나 같으면 True  \n",
    " * != : 같지 않으면 Ture  "
   ]
  },
  {
   "cell_type": "code",
   "execution_count": 61,
   "id": "7b07d322-c46f-4145-a58a-fe0287c9764b",
   "metadata": {
    "tags": []
   },
   "outputs": [
    {
     "data": {
      "text/plain": [
       "False"
      ]
     },
     "execution_count": 61,
     "metadata": {},
     "output_type": "execute_result"
    }
   ],
   "source": [
    "3 == 3"
   ]
  },
  {
   "cell_type": "code",
   "execution_count": 62,
   "id": "4e595374-bcc6-495c-8508-81179e5dd7ae",
   "metadata": {
    "tags": []
   },
   "outputs": [
    {
     "data": {
      "text/plain": [
       "False"
      ]
     },
     "execution_count": 62,
     "metadata": {},
     "output_type": "execute_result"
    }
   ],
   "source": [
    "4 >= 5"
   ]
  },
  {
   "cell_type": "code",
   "execution_count": 64,
   "id": "12a2b318-90c4-4877-804c-fd7f7c37ca4b",
   "metadata": {
    "tags": []
   },
   "outputs": [
    {
     "data": {
      "text/plain": [
       "True"
      ]
     },
     "execution_count": 64,
     "metadata": {},
     "output_type": "execute_result"
    }
   ],
   "source": [
    "\"가\" == \"가\""
   ]
  },
  {
   "cell_type": "code",
   "execution_count": 65,
   "id": "00a196f8-f7d7-426d-ac2c-2bf994be4d56",
   "metadata": {
    "tags": []
   },
   "outputs": [
    {
     "data": {
      "text/plain": [
       "False"
      ]
     },
     "execution_count": 65,
     "metadata": {},
     "output_type": "execute_result"
    }
   ],
   "source": [
    "\"a\" <= \"A\" #아스키번호 비교"
   ]
  },
  {
   "cell_type": "code",
   "execution_count": 66,
   "id": "7f27cc40-5d7b-4355-92e5-c98297196f39",
   "metadata": {
    "tags": []
   },
   "outputs": [
    {
     "data": {
      "text/plain": [
       "True"
      ]
     },
     "execution_count": 66,
     "metadata": {},
     "output_type": "execute_result"
    }
   ],
   "source": [
    "\"50\" < \"7\" #아스키번호 비교"
   ]
  },
  {
   "cell_type": "markdown",
   "id": "9d809047-9fdb-4490-b2af-dfbc81e7423e",
   "metadata": {
    "tags": []
   },
   "source": [
    "## 조건  \n",
    " * and : 둘다 만족하면 true  \n",
    " * or  : 둘 중 하나라도 만족하면 true  \n",
    " * not : 그렇지 않으면 true"
   ]
  },
  {
   "cell_type": "code",
   "execution_count": 67,
   "id": "4e0bb0cb-1341-4492-81ec-627958c5bac8",
   "metadata": {
    "tags": []
   },
   "outputs": [
    {
     "data": {
      "text/plain": [
       "False"
      ]
     },
     "execution_count": 67,
     "metadata": {},
     "output_type": "execute_result"
    }
   ],
   "source": [
    "A = 7\n",
    "(A>3) and (A>10)"
   ]
  },
  {
   "cell_type": "code",
   "execution_count": 68,
   "id": "60273b8c-1c98-40da-825d-a83f3d035c41",
   "metadata": {
    "tags": []
   },
   "outputs": [
    {
     "data": {
      "text/plain": [
       "True"
      ]
     },
     "execution_count": 68,
     "metadata": {},
     "output_type": "execute_result"
    }
   ],
   "source": [
    "(A>3) or (A>10)"
   ]
  },
  {
   "cell_type": "code",
   "execution_count": 71,
   "id": "a872b636-4e8b-4ca2-8124-906c20d11e0e",
   "metadata": {
    "tags": []
   },
   "outputs": [
    {
     "name": "stdout",
     "output_type": "stream",
     "text": [
      "1 2\n"
     ]
    }
   ],
   "source": [
    "# QUIZ 5를 3으로 나눈 몫을 c에 할당한 뒤 프린트\n",
    "c = 5 // 3  # 몫\n",
    "d = 5 % 3   # 나머지\n",
    "print(c, d)"
   ]
  },
  {
   "cell_type": "code",
   "execution_count": 72,
   "id": "9fadff1b-224d-457c-a6df-c19b99b0bbb6",
   "metadata": {
    "tags": []
   },
   "outputs": [
    {
     "name": "stdout",
     "output_type": "stream",
     "text": [
      "6 True\n",
      "3 False\n",
      "5 False\n"
     ]
    }
   ],
   "source": [
    "a,b,c=6,3,5 #2와 3으로 나눈 나머지가 0인 수는?\n",
    "print(a, a%2==0 and a%3==0)\n",
    "print(b, b%2==0 and b%3==0)\n",
    "print(c, c%2==0 and c%3==0) \n",
    "\n",
    "# 추후 List를 배우면 조건을 한 번만 작성하여 반복하지 않아도 됨"
   ]
  },
  {
   "cell_type": "markdown",
   "id": "5cdaed71-d245-44fa-9bec-2d13467bd7f3",
   "metadata": {
    "tags": []
   },
   "source": [
    "## 입력 및 출력\n",
    " * 변수 = input() : 변수를 사용자가 지정할 경우 (예를 들어, 시작 번호, ~ 끝 번호)\n"
   ]
  },
  {
   "cell_type": "code",
   "execution_count": 74,
   "id": "f5f9a9f6-f040-45ad-b8f2-aea00aed551e",
   "metadata": {
    "tags": []
   },
   "outputs": [
    {
     "name": "stdin",
     "output_type": "stream",
     "text": [
      "이름이 어떻게 되나요? 카더가든\n"
     ]
    },
    {
     "name": "stdout",
     "output_type": "stream",
     "text": [
      "카더가든님 안녕하세요.\n"
     ]
    }
   ],
   "source": [
    "name = input(\"이름이 어떻게 되나요?\")\n",
    "print(name, \"님 안녕하세요.\",sep=\"\")"
   ]
  },
  {
   "cell_type": "code",
   "execution_count": 77,
   "id": "35ce046f-f088-4931-abdf-95890db347f0",
   "metadata": {
    "tags": []
   },
   "outputs": [
    {
     "name": "stdin",
     "output_type": "stream",
     "text": [
      "나이는요? 33\n"
     ]
    },
    {
     "name": "stdout",
     "output_type": "stream",
     "text": [
      "만 33 세 입니다.\n"
     ]
    },
    {
     "data": {
      "text/plain": [
       "str"
      ]
     },
     "execution_count": 77,
     "metadata": {},
     "output_type": "execute_result"
    }
   ],
   "source": [
    "age = input(\"나이는요?\")\n",
    "print(\"만\",age,\"세 입니다.\")\n",
    "type(age) #input은 문자열로 인식하므로 숫자는 필요시 int 등으로 변환해야 함    "
   ]
  },
  {
   "cell_type": "code",
   "execution_count": 79,
   "id": "51d8c399-3a1c-42f2-b7ca-4265172b030f",
   "metadata": {
    "tags": []
   },
   "outputs": [
    {
     "data": {
      "text/plain": [
       "int"
      ]
     },
     "execution_count": 79,
     "metadata": {},
     "output_type": "execute_result"
    }
   ],
   "source": [
    "type(int(age))"
   ]
  },
  {
   "cell_type": "code",
   "execution_count": 82,
   "id": "99829e93-4131-4f0b-9310-bb98394569f7",
   "metadata": {
    "tags": []
   },
   "outputs": [
    {
     "name": "stdin",
     "output_type": "stream",
     "text": [
      "한국 나이는요? 33\n"
     ]
    },
    {
     "name": "stdout",
     "output_type": "stream",
     "text": [
      "한국 나이는 35살 입니다.\n"
     ]
    }
   ],
   "source": [
    "age = int(input(\"한국 나이는요?\"))     #input이 숫자면 미리 int로 정의할 것\n",
    "msg = f\"한국 나이는 {age+2}살 입니다.\" #python 3.6이상, f\"~{변수}~\" : f스트링 사용 시 변수 연산 가능\n",
    "print(msg)"
   ]
  },
  {
   "cell_type": "code",
   "execution_count": 86,
   "id": "74b1f7ac-1a94-471e-a6e4-59e59da69281",
   "metadata": {
    "tags": []
   },
   "outputs": [
    {
     "name": "stdin",
     "output_type": "stream",
     "text": [
      "더할 숫자를 넣으세요 3\n",
      "더할 숫자를 넣으세요 5\n"
     ]
    },
    {
     "name": "stdout",
     "output_type": "stream",
     "text": [
      "3 + 5 = 8\n",
      "3+5=8\n"
     ]
    }
   ],
   "source": [
    "a = int(input(\"더할 숫자를 넣으세요\"))\n",
    "b = int(input(\"더할 숫자를 넣으세요\"))\n",
    "print(a,\"+\",b,\"=\",a+b)               #기존 방식\n",
    "c = f\"{a}+{b}={a+b}\"                 #f스트링 방식 : 훨씬 직관적임\n",
    "print(c)\n",
    "        "
   ]
  },
  {
   "cell_type": "markdown",
   "id": "f572edf0-fe7f-4e14-8172-14029b01238b",
   "metadata": {
    "tags": []
   },
   "source": [
    "$ C = (F-32) * \\frac{5}{9}$"
   ]
  },
  {
   "cell_type": "code",
   "execution_count": 96,
   "id": "ab96db18-0600-4b77-ac82-ac2ad2ef0ea8",
   "metadata": {
    "tags": []
   },
   "outputs": [
    {
     "name": "stdin",
     "output_type": "stream",
     "text": [
      "화씨 온도를 입력해주세요. 100\n"
     ]
    },
    {
     "name": "stdout",
     "output_type": "stream",
     "text": [
      "섭씨 온도는 37.78입니다.\n"
     ]
    }
   ],
   "source": [
    "f = float(input(\"화씨 온도를 입력해주세요.\"))\n",
    "c = (f-32)*(5/9)\n",
    "print(f\"섭씨 온도는 {round(c,2)}입니다.\")"
   ]
  },
  {
   "cell_type": "markdown",
   "id": "b670de0a-94a8-46dc-8636-0049e8e3702e",
   "metadata": {
    "tags": []
   },
   "source": [
    "## 문자열 인덱싱"
   ]
  },
  {
   "cell_type": "code",
   "execution_count": 117,
   "id": "736f30eb-9928-46f1-9e8a-9a83d32d6469",
   "metadata": {
    "tags": []
   },
   "outputs": [
    {
     "name": "stdout",
     "output_type": "stream",
     "text": [
      "21\n",
      "i\n",
      " \n",
      "korea\n",
      "kratWRDkrat\n",
      "python WoRlD python\n",
      "-1\n",
      "KOREAIT WORLD KOREAIT\n",
      "koreait world koreait\n",
      "['test', 'naver.com']\n"
     ]
    }
   ],
   "source": [
    "txt = \"koreait WoRlD koreait\"\n",
    "print(len(txt))\n",
    "print(txt[5])                           # 0부터 시작함. 즉, 5 = 6번째 문자\n",
    "print(txt[-8])                          #-1부터 시작함. 즉, -8 = 6번째 문자\n",
    "print(txt[0:5])                         # 0이상 5미만 출력\n",
    "print(txt[::2])                         # 2개씩 넘어가며 출력\n",
    "print(txt.replace(\"koreait\", \"python\")) # 문자열 변경 (전부다 바뀌므로 유의)\n",
    "print(txt.find(\"z\"))                    # 문자열 위치 (없으면 -1)\n",
    "print(txt.upper())                      # 전부 대문자로\n",
    "print(txt.lower())                      # 전부 소문자로\n",
    "\n",
    "email = \"test@naver.com\"\n",
    "print(email.split(\"@\"))                 # 특정 문자를 기준으로 나눔 (리스트 형태로 변환)\n"
   ]
  },
  {
   "cell_type": "code",
   "execution_count": 125,
   "id": "610a6f89-2b89-4af5-b0c0-b16c8460e633",
   "metadata": {
    "tags": []
   },
   "outputs": [
    {
     "name": "stdin",
     "output_type": "stream",
     "text": [
      "성함을 알려주세요 김 아무개\n"
     ]
    },
    {
     "name": "stdout",
     "output_type": "stream",
     "text": [
      "아무개 김\n",
      "이름은 아무개이고 성은 김입니다.\n"
     ]
    }
   ],
   "source": [
    "name = input(\"성함을 알려주세요\") #성 뛰우고 이름 입력할 경우,,,\n",
    "pos = name.find(\" \")\n",
    "first = name[:pos]\n",
    "second = name[pos+1:]\n",
    "print(second, first)\n",
    "print(f\"이름은 {second}이고 성은 {first}입니다.\")"
   ]
  },
  {
   "cell_type": "markdown",
   "id": "cd11f878-52c9-4115-983c-c25e5baf93ec",
   "metadata": {
    "tags": []
   },
   "source": [
    "# 조건문"
   ]
  },
  {
   "cell_type": "markdown",
   "id": "aff264d6-18e3-43e3-a228-42db25287eb0",
   "metadata": {
    "tags": []
   },
   "source": [
    "## if문"
   ]
  },
  {
   "cell_type": "code",
   "execution_count": 131,
   "id": "a88245eb-7a61-40d9-ac9d-6edbda85c2a8",
   "metadata": {
    "tags": []
   },
   "outputs": [
    {
     "name": "stdout",
     "output_type": "stream",
     "text": [
      "니꺼\n"
     ]
    }
   ],
   "source": [
    "a = \"사과\"\n",
    "if a == \"배\":\n",
    "    print(\"내꺼\")\n",
    "else:\n",
    "    print(\"니꺼\")"
   ]
  },
  {
   "cell_type": "code",
   "execution_count": 132,
   "id": "5289abe7-3e79-479a-a9d3-54936cb381bc",
   "metadata": {
    "tags": []
   },
   "outputs": [
    {
     "name": "stdout",
     "output_type": "stream",
     "text": [
      "반만\n"
     ]
    }
   ],
   "source": [
    "a = \"사과\"\n",
    "if a == \"배\":\n",
    "    print(\"내꺼\")\n",
    "elif a == \"사과\":\n",
    "    print(\"반만\")\n",
    "else:\n",
    "    print(\"안먹어\")"
   ]
  },
  {
   "cell_type": "code",
   "execution_count": 135,
   "id": "34b2d7e0-2e9a-47cd-8210-8b93336700f4",
   "metadata": {
    "tags": []
   },
   "outputs": [
    {
     "name": "stdin",
     "output_type": "stream",
     "text": [
      "몇 점이니? 60\n"
     ]
    },
    {
     "name": "stdout",
     "output_type": "stream",
     "text": [
      "합격\n"
     ]
    }
   ],
   "source": [
    "b = int(input(\"몇 점이니?\"))\n",
    "if b >= 60:\n",
    "    print(\"합격\")\n",
    "else:\n",
    "    print(\"불합격\")"
   ]
  },
  {
   "cell_type": "code",
   "execution_count": 138,
   "id": "7701eef8-4ea9-4bf8-9308-457bf97afdae",
   "metadata": {
    "tags": []
   },
   "outputs": [
    {
     "name": "stdin",
     "output_type": "stream",
     "text": [
      "몇 점이니? 60\n"
     ]
    },
    {
     "name": "stdout",
     "output_type": "stream",
     "text": [
      "D\n"
     ]
    }
   ],
   "source": [
    "###### 점수를 입력받고 학점을 표시해 주세요 (A~F)\n",
    "c = int(input(\"몇 점이니?\"))\n",
    "if c >= 90:\n",
    "    print(\"A\")\n",
    "elif c >= 80:\n",
    "    print(\"B\")\n",
    "elif c >= 70:\n",
    "    print(\"C\")\n",
    "else:\n",
    "    print(\"D\")\n"
   ]
  },
  {
   "cell_type": "code",
   "execution_count": 140,
   "id": "cea255e1-8e1c-495c-b49c-a06d4d8f053c",
   "metadata": {
    "tags": []
   },
   "outputs": [
    {
     "name": "stdin",
     "output_type": "stream",
     "text": [
      "과일? 참외\n"
     ]
    },
    {
     "name": "stdout",
     "output_type": "stream",
     "text": [
      "no\n"
     ]
    }
   ],
   "source": [
    "d = input(\"과일?\")\n",
    "if d == \"수박\" or d == \"사과\":\n",
    "    print(\"ok\")\n",
    "else:\n",
    "    print(\"no\")"
   ]
  },
  {
   "cell_type": "markdown",
   "id": "b08caa99-a25d-437f-a563-8867681a4bc0",
   "metadata": {},
   "source": [
    "## for문"
   ]
  },
  {
   "cell_type": "code",
   "execution_count": 141,
   "id": "245c4a3d-f67b-4c04-9718-ccb76d0f9d5a",
   "metadata": {
    "collapsed": true,
    "jupyter": {
     "outputs_hidden": true
    },
    "tags": []
   },
   "outputs": [
    {
     "name": "stdout",
     "output_type": "stream",
     "text": [
      "k\n",
      "o\n",
      "r\n",
      "e\n",
      "a\n"
     ]
    }
   ],
   "source": [
    "for i in \"korea\":\n",
    "    print(i)"
   ]
  },
  {
   "cell_type": "code",
   "execution_count": 142,
   "id": "959a0afe-5f47-4fcc-926d-e6ce680da3f8",
   "metadata": {
    "tags": []
   },
   "outputs": [
    {
     "name": "stdout",
     "output_type": "stream",
     "text": [
      "0\n",
      "1\n",
      "2\n",
      "3\n",
      "4\n"
     ]
    }
   ],
   "source": [
    "for i in range(5): # 0번부터 시작함\n",
    "    print(i)"
   ]
  },
  {
   "cell_type": "code",
   "execution_count": 143,
   "id": "220cdaa6-46cc-41c4-966a-1f044db38345",
   "metadata": {
    "tags": []
   },
   "outputs": [
    {
     "name": "stdout",
     "output_type": "stream",
     "text": [
      "몰라\n",
      "몰라\n",
      "몰라\n",
      "몰라\n",
      "몰라\n"
     ]
    }
   ],
   "source": [
    "for i in range(5): # 5번 반복\n",
    "    print(\"몰라\")"
   ]
  },
  {
   "cell_type": "code",
   "execution_count": 147,
   "id": "0b6b71e4-3560-4992-88f9-741977cf9dbe",
   "metadata": {
    "tags": []
   },
   "outputs": [
    {
     "name": "stdout",
     "output_type": "stream",
     "text": [
      "0 0\n",
      "0 1\n",
      "0 2\n",
      "1 0\n",
      "1 1\n",
      "1 2\n"
     ]
    }
   ],
   "source": [
    "for x in range(2): # 행\n",
    "    for y in range(3): # 열\n",
    "        print(x,y)"
   ]
  },
  {
   "cell_type": "code",
   "execution_count": 171,
   "id": "c531be0d-2e01-46e9-bfbb-03273cd12daf",
   "metadata": {
    "collapsed": true,
    "jupyter": {
     "outputs_hidden": true
    },
    "tags": []
   },
   "outputs": [
    {
     "name": "stdout",
     "output_type": "stream",
     "text": [
      "2 * 1 = 2\n",
      "2 * 2 = 4\n",
      "2 * 3 = 6\n",
      "2 * 4 = 8\n",
      "2 * 5 = 10\n",
      "2 * 6 = 12\n",
      "2 * 7 = 14\n",
      "2 * 8 = 16\n",
      "2 * 9 = 18\n",
      "3 * 1 = 3\n",
      "3 * 2 = 6\n",
      "3 * 3 = 9\n",
      "3 * 4 = 12\n",
      "3 * 5 = 15\n",
      "3 * 6 = 18\n",
      "3 * 7 = 21\n",
      "3 * 8 = 24\n",
      "3 * 9 = 27\n",
      "4 * 1 = 4\n",
      "4 * 2 = 8\n",
      "4 * 3 = 12\n",
      "4 * 4 = 16\n",
      "4 * 5 = 20\n",
      "4 * 6 = 24\n",
      "4 * 7 = 28\n",
      "4 * 8 = 32\n",
      "4 * 9 = 36\n",
      "5 * 1 = 5\n",
      "5 * 2 = 10\n",
      "5 * 3 = 15\n",
      "5 * 4 = 20\n",
      "5 * 5 = 25\n",
      "5 * 6 = 30\n",
      "5 * 7 = 35\n",
      "5 * 8 = 40\n",
      "5 * 9 = 45\n",
      "6 * 1 = 6\n",
      "6 * 2 = 12\n",
      "6 * 3 = 18\n",
      "6 * 4 = 24\n",
      "6 * 5 = 30\n",
      "6 * 6 = 36\n",
      "6 * 7 = 42\n",
      "6 * 8 = 48\n",
      "6 * 9 = 54\n",
      "7 * 1 = 7\n",
      "7 * 2 = 14\n",
      "7 * 3 = 21\n",
      "7 * 4 = 28\n",
      "7 * 5 = 35\n",
      "7 * 6 = 42\n",
      "7 * 7 = 49\n",
      "7 * 8 = 56\n",
      "7 * 9 = 63\n",
      "8 * 1 = 8\n",
      "8 * 2 = 16\n",
      "8 * 3 = 24\n",
      "8 * 4 = 32\n",
      "8 * 5 = 40\n",
      "8 * 6 = 48\n",
      "8 * 7 = 56\n",
      "8 * 8 = 64\n",
      "8 * 9 = 72\n",
      "9 * 1 = 9\n",
      "9 * 2 = 18\n",
      "9 * 3 = 27\n",
      "9 * 4 = 36\n",
      "9 * 5 = 45\n",
      "9 * 6 = 54\n",
      "9 * 7 = 63\n",
      "9 * 8 = 72\n",
      "9 * 9 = 81\n"
     ]
    }
   ],
   "source": [
    "for x in range(2,10):                            # 행 (이상, 미만)\n",
    "    for y in range(1,10):                        # 열 (이상, 미만)\n",
    "        print(f\"{x} * {y} = {x*y}\")    # 구구단 \n"
   ]
  },
  {
   "cell_type": "code",
   "execution_count": 167,
   "id": "d4867398-c3f7-4b18-b11e-029e8c4e7e10",
   "metadata": {
    "tags": []
   },
   "outputs": [
    {
     "name": "stdout",
     "output_type": "stream",
     "text": [
      "2 * 1 = 2\t3 * 1 = 3\t4 * 1 = 4\t5 * 1 = 5\t6 * 1 = 6\t7 * 1 = 7\t8 * 1 = 8\t9 * 1 = 9\t\n",
      "2 * 2 = 4\t3 * 2 = 6\t4 * 2 = 8\t5 * 2 = 10\t6 * 2 = 12\t7 * 2 = 14\t8 * 2 = 16\t9 * 2 = 18\t\n",
      "2 * 3 = 6\t3 * 3 = 9\t4 * 3 = 12\t5 * 3 = 15\t6 * 3 = 18\t7 * 3 = 21\t8 * 3 = 24\t9 * 3 = 27\t\n",
      "2 * 4 = 8\t3 * 4 = 12\t4 * 4 = 16\t5 * 4 = 20\t6 * 4 = 24\t7 * 4 = 28\t8 * 4 = 32\t9 * 4 = 36\t\n",
      "2 * 5 = 10\t3 * 5 = 15\t4 * 5 = 20\t5 * 5 = 25\t6 * 5 = 30\t7 * 5 = 35\t8 * 5 = 40\t9 * 5 = 45\t\n",
      "2 * 6 = 12\t3 * 6 = 18\t4 * 6 = 24\t5 * 6 = 30\t6 * 6 = 36\t7 * 6 = 42\t8 * 6 = 48\t9 * 6 = 54\t\n",
      "2 * 7 = 14\t3 * 7 = 21\t4 * 7 = 28\t5 * 7 = 35\t6 * 7 = 42\t7 * 7 = 49\t8 * 7 = 56\t9 * 7 = 63\t\n",
      "2 * 8 = 16\t3 * 8 = 24\t4 * 8 = 32\t5 * 8 = 40\t6 * 8 = 48\t7 * 8 = 56\t8 * 8 = 64\t9 * 8 = 72\t\n",
      "2 * 9 = 18\t3 * 9 = 27\t4 * 9 = 36\t5 * 9 = 45\t6 * 9 = 54\t7 * 9 = 63\t8 * 9 = 72\t9 * 9 = 81\t\n"
     ]
    }
   ],
   "source": [
    "for x in range(1,10):                            # 열 (이상, 미만)\n",
    "    for y in range(2,10):                        # 행 (이상, 미만)\n",
    "        print(f\"{y} * {x} = {x*y}\", end=\"\\t\")    # 구구단 \n",
    "    print()                                      # 줄바꿈\n"
   ]
  },
  {
   "cell_type": "code",
   "execution_count": 179,
   "id": "7f821307-7cd3-4a24-bf4e-d00af3552697",
   "metadata": {
    "tags": []
   },
   "outputs": [
    {
     "name": "stdout",
     "output_type": "stream",
     "text": [
      "1 1\n",
      "2 3\n",
      "3 6\n",
      "4 10\n",
      "5 15\n",
      "6 21\n",
      "7 28\n",
      "8 36\n",
      "9 45\n",
      "10 55\n"
     ]
    }
   ],
   "source": [
    "j=0                     #변수를 초기화하지 않으면 반복 실행 시 이전 데이터에서 시작함 -> 수치해석 변수는 시작부 반드시 초기화가 들어갈 것\n",
    "for i in range(1,11):\n",
    "    j += i\n",
    "    print(i, j)"
   ]
  }
 ],
 "metadata": {
  "kernelspec": {
   "display_name": "Python 3 (ipykernel)",
   "language": "python",
   "name": "python3"
  },
  "language_info": {
   "codemirror_mode": {
    "name": "ipython",
    "version": 3
   },
   "file_extension": ".py",
   "mimetype": "text/x-python",
   "name": "python",
   "nbconvert_exporter": "python",
   "pygments_lexer": "ipython3",
   "version": "3.11.3"
  },
  "toc-autonumbering": true,
  "toc-showmarkdowntxt": false
 },
 "nbformat": 4,
 "nbformat_minor": 5
}
